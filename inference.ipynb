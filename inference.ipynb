{
 "cells": [
  {
   "cell_type": "code",
   "execution_count": 3,
   "metadata": {},
   "outputs": [
    {
     "data": {
      "text/plain": [
       "torch.jit._script.RecursiveScriptModule"
      ]
     },
     "execution_count": 3,
     "metadata": {},
     "output_type": "execute_result"
    }
   ],
   "source": [
    "import torch\n",
    "import time\n",
    "from PIL import Image\n",
    "from torchvision import transforms\n",
    "from torchvision.utils import save_image\n",
    "\n",
    "model = torch.jit.load('/home/tanmaypatil/Documents/DS/DL/SRGAN/models/model_scripted_vgg15_base.pt')\n",
    "# model1 = torch.jit.load('/home/tanmaypatil/Documents/DS/DL/SRGAN/models/torch_scripts/model_scripted_vgg22_xl.pt')\n",
    "# model2 = torch.jit.load('/home/tanmaypatil/Documents/DS/DL/SRGAN/models/torch_scripts/model_scripted_vgg34.pt')\n",
    "# model.eval()\n",
    "# model1.eval()\n",
    "# model2.eval()\n",
    "\n",
    "\n",
    "st = time.time()\n",
    "lr_image = Image.open('/home/tanmaypatil/Documents/DS/DL/SRGAN/dataset/DIV2K_train_HR/0599.png')\n",
    "preprocess = transforms.Compose([\n",
    "    transforms.Resize((64, 64)),\n",
    "    transforms.ToTensor(),\n",
    "    transforms.Normalize(mean=[0.5, 0.5, 0.5], std=[0.5, 0.5, 0.5])\n",
    "])\n",
    "lr_tensor = preprocess(lr_image).unsqueeze(0).cuda()  # Add batch dimension and move to GPU\n",
    "\n",
    "\n",
    "with torch.no_grad():\n",
    "    hr_tensor = model(lr_tensor)\n",
    "\n",
    "type(lr_image)\n",
    "# print('Time taken:', time.time() - st)\n",
    "# save_image(lr_tensor.data, 'gen_lr_test.png', normalize=True)\n",
    "# save_image(hr_tensor.data, 'gen_hr_test_v15.png', normalize=True)\n",
    "\n",
    "# with torch.no_grad():\n",
    "#     hr_tensor = model1(lr_tensor)\n",
    "# print('Time taken:', time.time() - st)\n",
    "# save_image(hr_tensor.data, 'gen_hr_test_v22.png', normalize=True)\n",
    "\n",
    "# with torch.no_grad():\n",
    "#     hr_tensor = model2(lr_tensor)\n",
    "# print('Time taken:', time.time() - st)\n",
    "# save_image(hr_tensor.data, 'gen_hr_test_v34.png', normalize=True)\n"
   ]
  },
  {
   "cell_type": "code",
   "execution_count": 2,
   "metadata": {},
   "outputs": [],
   "source": [
    "half_model = model.half()"
   ]
  },
  {
   "cell_type": "code",
   "execution_count": 3,
   "metadata": {},
   "outputs": [
    {
     "name": "stdout",
     "output_type": "stream",
     "text": [
      "0.11390900611877441\n"
     ]
    }
   ],
   "source": [
    "st = time.time()\n",
    "half_model.eval()\n",
    "r_image = Image.open('photo_2024-08-22_10-36-44.jpg')\n",
    "preprocess = transforms.Compose([\n",
    "    transforms.Resize((64, 64)),\n",
    "    transforms.ToTensor(),\n",
    "    transforms.Normalize(mean=[0.5, 0.5, 0.5], std=[0.5, 0.5, 0.5])\n",
    "])\n",
    "lr_tensor = preprocess(lr_image).unsqueeze(0).half().cuda()  # Add batch dimension and move to GPU\n",
    "\n",
    "\n",
    "with torch.no_grad():\n",
    "    hr_tensor = half_model(lr_tensor)\n",
    "print(time.time() - st)\n",
    "save_image(lr_tensor.data, 'gen_lr_test.png', normalize=True)\n",
    "save_image(hr_tensor.data, 'gen_hr_test.png', normalize=True)\n"
   ]
  },
  {
   "cell_type": "code",
   "execution_count": 44,
   "metadata": {},
   "outputs": [],
   "source": [
    "from PIL import Image\n",
    "import numpy as np\n",
    "\n",
    "# Load the images\n",
    "image1 = Image.open('/home/tanmaypatil/Documents/DS/DL/SRGAN/gen_hr_test_v15.png')\n",
    "image2 = Image.open('/home/tanmaypatil/Documents/DS/DL/SRGAN/gen_hr_test_v22.png')\n",
    "# image3 = Image.open('/home/tanmaypatil/Documents/DS/DL/SRGAN/gen_hr_test_v34.png')\n",
    "\n",
    "# Convert images to numpy arrays\n",
    "arr1 = np.array(image1, dtype=np.float32)\n",
    "arr2 = np.array(image2, dtype=np.float32)\n",
    "# arr3 = np.array(image3, dtype=np.float32)\n",
    "\n",
    "\n",
    "\n",
    "for i in np.linspace(0.01, 1, 11):\n",
    "    # Calculate the average\n",
    "    average_arr = (arr1*i + arr2*1.5) / (i+1.5)\n",
    "\n",
    "    # Convert back to an image\n",
    "    average_image = Image.fromarray(np.uint8(average_arr))\n",
    "\n",
    "    # Save the result\n",
    "    average_image.save(f'average_image{i}.png')\n"
   ]
  },
  {
   "cell_type": "code",
   "execution_count": null,
   "metadata": {},
   "outputs": [],
   "source": []
  }
 ],
 "metadata": {
  "kernelspec": {
   "display_name": ".venv",
   "language": "python",
   "name": "python3"
  },
  "language_info": {
   "codemirror_mode": {
    "name": "ipython",
    "version": 3
   },
   "file_extension": ".py",
   "mimetype": "text/x-python",
   "name": "python",
   "nbconvert_exporter": "python",
   "pygments_lexer": "ipython3",
   "version": "3.12.3"
  }
 },
 "nbformat": 4,
 "nbformat_minor": 2
}
